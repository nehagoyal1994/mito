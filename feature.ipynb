import bigMito as mito

import pandas as pd
import glob, os, re, cv2
import matplotlib.pyplot as plt

WORKING_DIRECTORY = 'C:/Users/snehg/Downloads/haehnassignment1_data/'

import bigSiftFeature as sift

IMAGES = glob.glob(os.path.join(WORKING_DIRECTORY, "lucchi/Train_Messed_img", "*"))
# sort images according to numeric order
IMAGES.sort(key=lambda f: int(re.sub('\D', '', f)))  
MASKS = glob.glob(os.path.join(WORKING_DIRECTORY, "lucchi/Train_Messed_mask", "*"))
MASKS.sort(key=lambda f: int(re.sub('\D', '', f)))  



df = pd.DataFrame(columns = ['avgDice' , 'throughputPair  MP/s', 'ExecutionTime  sec' , 'throughputStack  MP/s', 'feature' , 'matcher', 'matrix', 'mito'])
for i in range(0,3):
    diceScore_list = []
    avg_dice, df = sift.FeatureRegistration(IMAGES, MASKS, "SIFT", "BF", "HOMOGRAPHY", df, mask = True)

    avg_dice, df = sift.FeatureRegistration(IMAGES, MASKS, "SIFT", "BF", "HOMOGRAPHY", df,  mask = False)
    
 
 print(df)
