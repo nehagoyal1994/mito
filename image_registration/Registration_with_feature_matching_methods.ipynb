{
 "cells": [
  {
   "cell_type": "code",
   "execution_count": null,
   "metadata": {},
   "outputs": [],
   "source": [
    "%matplotlib inline\n",
    "\n",
    "\n",
    "import pandas as pd\n",
    "import glob, os, re, cv2\n",
    "import matplotlib.pyplot as plt"
   ]
  },
  {
   "cell_type": "code",
   "execution_count": null,
   "metadata": {},
   "outputs": [],
   "source": [
    "import orb_briskFeature as feature\n",
    "import hybridFeature as hybrid\n",
    "import siftFeature as sift\n",
    "import mitoFeature as mito"
   ]
  },
  {
   "cell_type": "code",
   "execution_count": null,
   "metadata": {},
   "outputs": [],
   "source": [
    "IMAGES = glob.glob(os.path.join(\"./lucchi/Train_Messed_img\", \"*\"))\n",
    "# sort images according to numeric order\n",
    "IMAGES.sort(key=lambda f: int(re.sub('\\D', '', f)))  \n",
    "MASKS = glob.glob(os.path.join(\"./lucchi/Train_Messed_mask\", \"*\"))\n",
    "MASKS.sort(key=lambda f: int(re.sub('\\D', '', f)))  "
   ]
  },
  {
   "cell_type": "code",
   "execution_count": null,
   "metadata": {},
   "outputs": [],
   "source": [
    "hybrid.FeatureRegistration(IMAGES, MASKS, \"ORB\", \"BRISK\", \"BF\", mask = True)"
   ]
  },
  {
   "cell_type": "code",
   "execution_count": null,
   "metadata": {},
   "outputs": [],
   "source": [
    "feature.FeatureRegistration(IMAGES, MASKS, \"ORB\", \"BF\", mask = True)"
   ]
  },
  {
   "cell_type": "code",
   "execution_count": null,
   "metadata": {},
   "outputs": [],
   "source": [
    "feature.FeatureRegistration(IMAGES, MASKS, \"BRISK\", \"BF\", mask = False)\n",
    "feature.FeatureRegistration(IMAGES, MASKS, \"ORB\", \"FLANN\", mask = True)\n",
    "feature.FeatureRegistration(IMAGES, MASKS, \"BRISK\", \"FLANN\", mask = True)"
   ]
  },
  {
   "cell_type": "code",
   "execution_count": null,
   "metadata": {},
   "outputs": [],
   "source": [
    "mito.MitoRegistration(IMAGES, MASKS, \"BRISK\", \"BF\")\n",
    "mito.MitoRegistration(IMAGES, MASKS, \"FREAK\", \"BF\")\n",
    "mito.MitoRegistration(IMAGES, MASKS, \"BRISK\", \"FLANN\")\n",
    "mito.MitoRegistration(IMAGES, MASKS, \"FREAK\", \"FLANN\")"
   ]
  },
  {
   "cell_type": "code",
   "execution_count": null,
   "metadata": {},
   "outputs": [],
   "source": [
    "hybrid.FeatureRegistration(IMAGES, MASKS, \"ORB\", \"BRISK\", \"FLANN\", mask = True)\n",
    "hybrid.FeatureRegistration(IMAGES, MASKS, \"FAST\", \"FREAK\", \"BF\", mask = False)"
   ]
  },
  {
   "cell_type": "code",
   "execution_count": null,
   "metadata": {},
   "outputs": [],
   "source": []
  },
  {
   "cell_type": "code",
   "execution_count": null,
   "metadata": {},
   "outputs": [],
   "source": [
    "sift.FeatureRegistration(IMAGES, MASKS, \"SIFT\", \"BF\", \"AFFINE\", mask = True)\n",
    "sift.FeatureRegistration(IMAGES, MASKS, \"SIFT\", \"FLANN\", \"HOMOGRAPHY\",  mask = False)"
   ]
  }
 ],
 "metadata": {
  "kernelspec": {
   "display_name": "Python 3",
   "language": "python",
   "name": "python3"
  },
  "language_info": {
   "codemirror_mode": {
    "name": "ipython",
    "version": 3
   },
   "file_extension": ".py",
   "mimetype": "text/x-python",
   "name": "python",
   "nbconvert_exporter": "python",
   "pygments_lexer": "ipython3",
   "version": "3.7.6"
  }
 },
 "nbformat": 4,
 "nbformat_minor": 4
}
